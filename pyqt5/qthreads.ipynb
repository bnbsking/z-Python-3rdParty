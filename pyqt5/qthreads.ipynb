{
 "cells": [
  {
   "cell_type": "code",
   "execution_count": 1,
   "metadata": {},
   "outputs": [],
   "source": [
    "import sys, time\n",
    "from PyQt5.QtWidgets import QApplication, QWidget, QLabel, QPushButton, QLineEdit, \\\n",
    "    QVBoxLayout, QFormLayout, QProgressBar\n",
    "from PyQt5.QtCore import QThread, pyqtSignal\n",
    "\n",
    "# QProgressBar() 回傳一個進度條object\n",
    "    #obj.setValue(整數)\n",
    "# pyqtSignal(型態) 回傳一個信號object\n",
    "    #obj.emit(整數) 發送信號\n",
    "    #obj.connect(pyqtSignal物件) 接收信號\n",
    "# QThread 用來繼承之class\n",
    "    #run 用overriding來執行\n",
    "    #obj.wait()\n",
    "    #obj.start()\n",
    "    #obj.terminate()"
   ]
  },
  {
   "cell_type": "code",
   "execution_count": 2,
   "metadata": {},
   "outputs": [],
   "source": [
    "class TutorialThread(QThread):\n",
    "    signalobj = pyqtSignal(int)\n",
    "    def __init__(self):\n",
    "        super().__init__()\n",
    "    def __del__(self):\n",
    "        self.wait()  #刪除這個物件時必須等到執行緒執行完畢\n",
    "    def run(self):\n",
    "        for index in range(1, 101):\n",
    "            self.signalobj.emit(index) #發送和接收會在<不同thread同object>上執行\n",
    "            time.sleep(0.05)\n",
    "\n",
    "class MainWindow(QWidget):\n",
    "    def __init__(self):\n",
    "        super().__init__()\n",
    "        self.setupUi()\n",
    "        self._tutorial_thread = TutorialThread()\n",
    "        self._tutorial_thread.signalobj.connect(self.setProgressBarValue)\n",
    "            #不斷接收另一個thread所發出之訊號\n",
    "        self.show()\n",
    "    def setupUi(self):\n",
    "        self.setWindowTitle(\"執行緒的使用\")\n",
    "        self.button_start = QPushButton()\n",
    "        self.button_start.setText(\"開始\")\n",
    "        self.button_stop = QPushButton()\n",
    "        self.button_stop.setText(\"結束\")\n",
    "        self.progress_bar = QProgressBar()\n",
    "        self.line = QLineEdit()\n",
    "        form_layout = QFormLayout()\n",
    "        form_layout.addRow(self.button_start, self.line)\n",
    "        form_layout.addRow(self.button_stop)\n",
    "        form_layout.addRow(self.progress_bar)\n",
    "        h_layout = QVBoxLayout()\n",
    "        h_layout.addLayout(form_layout)\n",
    "        self.setLayout(h_layout)\n",
    "        self.button_start.clicked.connect(self.start)\n",
    "        self.button_stop.clicked.connect(self.stop)\n",
    "    def start(self):\n",
    "        self.line.setText(\"觸發後可以修改\")\n",
    "        self._tutorial_thread.start()\n",
    "    def stop(self):\n",
    "        self._tutorial_thread.terminate()\n",
    "    def setProgressBarValue(self, data):\n",
    "        self.progress_bar.setValue(data)"
   ]
  },
  {
   "cell_type": "code",
   "execution_count": 3,
   "metadata": {},
   "outputs": [
    {
     "ename": "SystemExit",
     "evalue": "0",
     "output_type": "error",
     "traceback": [
      "An exception has occurred, use %tb to see the full traceback.\n",
      "\u001b[1;31mSystemExit\u001b[0m\u001b[1;31m:\u001b[0m 0\n"
     ]
    },
    {
     "name": "stderr",
     "output_type": "stream",
     "text": [
      "C:\\Users\\MH630\\Anaconda3\\envs\\tensorflow\\lib\\site-packages\\IPython\\core\\interactiveshell.py:3327: UserWarning: To exit: use 'exit', 'quit', or Ctrl-D.\n",
      "  warn(\"To exit: use 'exit', 'quit', or Ctrl-D.\", stacklevel=1)\n"
     ]
    }
   ],
   "source": [
    "if __name__ == \"__main__\":\n",
    "    app = QApplication(sys.argv)\n",
    "    MainWindow = MainWindow()\n",
    "    sys.exit(app.exec_())"
   ]
  },
  {
   "cell_type": "code",
   "execution_count": null,
   "metadata": {},
   "outputs": [],
   "source": []
  },
  {
   "cell_type": "code",
   "execution_count": null,
   "metadata": {},
   "outputs": [],
   "source": []
  },
  {
   "cell_type": "code",
   "execution_count": null,
   "metadata": {},
   "outputs": [],
   "source": []
  }
 ],
 "metadata": {
  "kernelspec": {
   "display_name": "Python 3",
   "language": "python",
   "name": "python3"
  },
  "language_info": {
   "codemirror_mode": {
    "name": "ipython",
    "version": 3
   },
   "file_extension": ".py",
   "mimetype": "text/x-python",
   "name": "python",
   "nbconvert_exporter": "python",
   "pygments_lexer": "ipython3",
   "version": "3.7.5"
  }
 },
 "nbformat": 4,
 "nbformat_minor": 2
}
