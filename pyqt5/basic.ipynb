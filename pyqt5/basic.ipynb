{
 "cells": [
  {
   "cell_type": "code",
   "execution_count": 1,
   "metadata": {},
   "outputs": [],
   "source": [
    "import sys\n",
    "from PyQt5.QtWidgets import QApplication, QWidget, QLabel, QPushButton, QLineEdit, \\\n",
    "    QVBoxLayout, QFormLayout\n",
    "#QApplication(sys.argv) 回傳一個object為app\n",
    "    #obj.exec_()\n",
    "#QWidget 一個class給MainWindow繼承用\n",
    "    #obj.show()\n",
    "    #obj.setLayout() 彙整排版\n",
    "#QLabel()       回傳一個object顯示文字\n",
    "    #obj.setText(\"\")\n",
    "#QPushButton()  回傳一個object按鈕\n",
    "    #obj.setText(\"\")\n",
    "    #obj.clicked.connect(function object)\n",
    "#QLineEdit()    回傳一個object輸入文字\n",
    "#QFormLayout()  回傳一個object用於表格排版(先組成大物件)\n",
    "    #obj.addRow(,)\n",
    "#QVBoxLayout    回傳一個object用於垂直排版\n",
    "    #obj.addWidget()  新增非表格物件\n",
    "    #obj.addLayout()  新增表格物件"
   ]
  },
  {
   "cell_type": "code",
   "execution_count": 2,
   "metadata": {},
   "outputs": [],
   "source": [
    "class MainWindow(QWidget):\n",
    "    def __init__(self):\n",
    "        super().__init__()\n",
    "        self.setupUi()\n",
    "        self.show()\n",
    "    def setupUi(self):\n",
    "        self.setWindowTitle(\"Hello World!\")\n",
    "        #物件 加油、兩個按鈕、兩行輸入\n",
    "        self.label = QLabel()\n",
    "        self.label.setText(\"加油加油加油\")\n",
    "        self.button_hello = QPushButton()\n",
    "        self.button_hello.setText(\"hello\")\n",
    "        self.button_cancel = QPushButton()\n",
    "        self.button_cancel.setText(\"cancel\")\n",
    "        self.line_hello = QLineEdit()\n",
    "        #表格排版組成大物件\n",
    "        form_layout = QFormLayout()\n",
    "        form_layout.addRow(self.button_hello, self.line_hello)\n",
    "        form_layout.addRow(self.button_cancel)\n",
    "        #垂直排版\n",
    "        h_layout = QVBoxLayout()\n",
    "        h_layout.addWidget(self.label)\n",
    "        h_layout.addLayout(form_layout)\n",
    "        self.setLayout(h_layout)\n",
    "        #訊號觸發\n",
    "        self.button_hello.clicked.connect(self.hello)\n",
    "        self.button_cancel.clicked.connect(self.cancel)\n",
    "    def hello(self):\n",
    "        self.line_hello.setText(\"hello 我被觸發了\")\n",
    "    def cancel(self):\n",
    "        self.line_hello.setText(\"\")"
   ]
  },
  {
   "cell_type": "code",
   "execution_count": 3,
   "metadata": {},
   "outputs": [
    {
     "ename": "SystemExit",
     "evalue": "0",
     "output_type": "error",
     "traceback": [
      "An exception has occurred, use %tb to see the full traceback.\n",
      "\u001b[1;31mSystemExit\u001b[0m\u001b[1;31m:\u001b[0m 0\n"
     ]
    },
    {
     "name": "stderr",
     "output_type": "stream",
     "text": [
      "C:\\Users\\MH630\\Anaconda3\\envs\\tensorflow\\lib\\site-packages\\IPython\\core\\interactiveshell.py:3327: UserWarning: To exit: use 'exit', 'quit', or Ctrl-D.\n",
      "  warn(\"To exit: use 'exit', 'quit', or Ctrl-D.\", stacklevel=1)\n"
     ]
    }
   ],
   "source": [
    "if __name__ == \"__main__\":\n",
    "    app = QApplication(sys.argv)\n",
    "    MainWindow = MainWindow()\n",
    "    sys.exit(app.exec_())"
   ]
  },
  {
   "cell_type": "code",
   "execution_count": null,
   "metadata": {},
   "outputs": [],
   "source": []
  }
 ],
 "metadata": {
  "kernelspec": {
   "display_name": "Python 3",
   "language": "python",
   "name": "python3"
  },
  "language_info": {
   "codemirror_mode": {
    "name": "ipython",
    "version": 3
   },
   "file_extension": ".py",
   "mimetype": "text/x-python",
   "name": "python",
   "nbconvert_exporter": "python",
   "pygments_lexer": "ipython3",
   "version": "3.7.5"
  }
 },
 "nbformat": 4,
 "nbformat_minor": 2
}
