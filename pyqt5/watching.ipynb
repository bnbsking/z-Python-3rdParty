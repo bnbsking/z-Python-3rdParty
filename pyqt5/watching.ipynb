{
 "cells": [
  {
   "cell_type": "code",
   "execution_count": 1,
   "metadata": {},
   "outputs": [],
   "source": [
    "import sys\n",
    "import numpy as np\n",
    "from matplotlib.backends.backend_qt5agg import FigureCanvasQTAgg as FigureCanvas\n",
    "from matplotlib.figure import Figure\n",
    "from PyQt5.QtWidgets import QApplication, QMainWindow, QPushButton, QLabel\n",
    "from PyQt5.QtCore import QTimer\n",
    "import tensorflow as tf"
   ]
  },
  {
   "cell_type": "code",
   "execution_count": 2,
   "metadata": {},
   "outputs": [],
   "source": [
    "L = np.load(\"raw_05_11_15_53_11x.npy\", allow_pickle=True)\n",
    "mean_std = np.load(\"mean_std.npy\", allow_pickle=True)\n",
    "L = (L-mean_std[0])/mean_std[1]\n",
    "\n",
    "model = tf.keras.models.load_model(\"LSTM_model.h5\")"
   ]
  },
  {
   "cell_type": "code",
   "execution_count": 3,
   "metadata": {},
   "outputs": [],
   "source": [
    "class App(QMainWindow):\n",
    "    def __init__(self):\n",
    "        super().__init__()\n",
    "        self.initUI()\n",
    "        self.show()\n",
    "    def initUI(self):\n",
    "        self.setWindowTitle('Real-time prediction')\n",
    "        self.setGeometry(100, 200, 1700, 400)\n",
    "        # canvas thread\n",
    "        obj = PlotCanvas(self, width=15, height=4)\n",
    "        self.timer = QTimer(obj)\n",
    "        self.timer.timeout.connect(obj.plotc)\n",
    "        self.FRAME_PER_SECOND = 1\n",
    "        self.timer.start(1000/self.FRAME_PER_SECOND)\n",
    "        \n",
    "class PlotCanvas(FigureCanvas):\n",
    "    def __init__(self, parent=None, width=15, height=4, dpi=100):\n",
    "        super().__init__( Figure(figsize=(width, height), dpi=dpi) )\n",
    "        self.setParent(parent)\n",
    "        self.data = [0 for i in range(200)]\n",
    "        self.sec = [29 for i in range(200)]\n",
    "        self.t = 0\n",
    "    def plotc(self):\n",
    "        global L, model\n",
    "        new = np.array([ L[self.t*4+3-24+i] for i in range(25) ])\n",
    "        ans = np.argmax(model.predict(new.reshape(1,25,1)))\n",
    "        self.sec = self.sec[4:] + [ans for i in range(4)]\n",
    "        self.data=self.data[4:] + [L[self.t*4]*8, L[self.t*4+1]*8, L[self.t*4+2]*8,\\\n",
    "            L[self.t*4+3]*8]\n",
    "        fig = self.figure.add_subplot(111)\n",
    "        fig.clear()\n",
    "        fig.plot(self.data, 'r-')\n",
    "        fig.plot(self.sec, 'g-')\n",
    "        #fig.set_ylim(-2,2)\n",
    "        fig.set_ylim(-5, 30)\n",
    "        fig.set_title('Vibration')\n",
    "        self.draw()\n",
    "        self.t+=1\n",
    "\n",
    "def data_collect():\n",
    "    pass"
   ]
  },
  {
   "cell_type": "code",
   "execution_count": 4,
   "metadata": {},
   "outputs": [
    {
     "name": "stderr",
     "output_type": "stream",
     "text": [
      "C:\\Users\\MH630\\Anaconda3\\envs\\tensorflow\\lib\\site-packages\\ipykernel_launcher.py:29: MatplotlibDeprecationWarning: Adding an axes using the same arguments as a previous axes currently reuses the earlier instance.  In a future version, a new instance will always be created and returned.  Meanwhile, this warning can be suppressed, and the future behavior ensured, by passing a unique label to each axes instance.\n"
     ]
    },
    {
     "ename": "SystemExit",
     "evalue": "0",
     "output_type": "error",
     "traceback": [
      "An exception has occurred, use %tb to see the full traceback.\n",
      "\u001b[1;31mSystemExit\u001b[0m\u001b[1;31m:\u001b[0m 0\n"
     ]
    },
    {
     "name": "stderr",
     "output_type": "stream",
     "text": [
      "C:\\Users\\MH630\\Anaconda3\\envs\\tensorflow\\lib\\site-packages\\IPython\\core\\interactiveshell.py:3327: UserWarning: To exit: use 'exit', 'quit', or Ctrl-D.\n",
      "  warn(\"To exit: use 'exit', 'quit', or Ctrl-D.\", stacklevel=1)\n"
     ]
    }
   ],
   "source": [
    "if __name__ == '__main__':\n",
    "    app = QApplication(sys.argv)\n",
    "    ex = App()\n",
    "    sys.exit(app.exec_())"
   ]
  },
  {
   "cell_type": "code",
   "execution_count": null,
   "metadata": {},
   "outputs": [],
   "source": []
  }
 ],
 "metadata": {
  "kernelspec": {
   "display_name": "Python 3",
   "language": "python",
   "name": "python3"
  },
  "language_info": {
   "codemirror_mode": {
    "name": "ipython",
    "version": 3
   },
   "file_extension": ".py",
   "mimetype": "text/x-python",
   "name": "python",
   "nbconvert_exporter": "python",
   "pygments_lexer": "ipython3",
   "version": "3.7.5"
  }
 },
 "nbformat": 4,
 "nbformat_minor": 2
}
