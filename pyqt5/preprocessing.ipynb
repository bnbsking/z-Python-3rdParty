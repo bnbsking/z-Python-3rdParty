{
 "cells": [
  {
   "cell_type": "code",
   "execution_count": 10,
   "metadata": {},
   "outputs": [
    {
     "data": {
      "text/plain": [
       "'\\nnp.save(\"xTrain.npy\", xTrain)\\nnp.save(\"xVal.npy\", xVal)\\nnp.save(\"xTest.npy\", xTest)\\nnp.save(\"yTrain.npy\", yTrain)\\nnp.save(\"yVal.npy\", yVal)\\nnp.save(\"yTest.npy\", yTest)'"
      ]
     },
     "execution_count": 10,
     "metadata": {},
     "output_type": "execute_result"
    }
   ],
   "source": [
    "import numpy as np\n",
    "import os\n",
    "import math\n",
    "\n",
    "# load data\n",
    "for file in os.listdir():\n",
    "    if file[:3]==\"raw\":\n",
    "        raw = np.load(file, allow_pickle=True)\n",
    "    elif file==\"cut.npy\":\n",
    "        cut = np.load(file, allow_pickle=True)\n",
    "        \n",
    "# label statistics\n",
    "i, j = cut[0][0], 0                # ith time point, jth period\n",
    "y0, x0, bar = [], [], np.zeros(30) # y0:which class, x0:index of the segment's end point\n",
    "while i<cut[-1][-1]:               # -1:正常 0~28:剩餘時間 \n",
    "    if cut[0][j]<=i<cut[1][j]:\n",
    "        label = -1\n",
    "    elif cut[1][j]<=i<cut[2][j]:\n",
    "        label = min((cut[2][j]-i)//4, 28)\n",
    "    elif cut[2][j]<=i<cut[3][j]:\n",
    "        label = 0\n",
    "    elif cut[3][j]<=i<cut[4][j]:\n",
    "        label = -1\n",
    "    else:\n",
    "        if j<len(cut[0])-1:\n",
    "            j+=1\n",
    "            i=cut[0][j]\n",
    "            continue\n",
    "        else:\n",
    "            break\n",
    "    x0.append(i)\n",
    "    y0.append(label)\n",
    "    bar[int(label)]+=1\n",
    "    i+=1\n",
    "    \n",
    "# collect data\n",
    "upperBound = int(bar[1:-1].mean())*3     #-1和0都會特多 因此限制其上限為剩餘類別的3倍\n",
    "totalFirst, totalLast, top = 0, 0, 0     #填入第top個資料\n",
    "N = int(bar[1:-1].sum()) + upperBound*2  #-1和0這兩種\n",
    "X, y = np.zeros((N,25)), np.zeros((N,30))\n",
    "for i in range(len(x0)):\n",
    "    if y0[i]==0:\n",
    "        if totalFirst==upperBound:\n",
    "            continue\n",
    "        totalFirst+=1\n",
    "    elif y0[i]==-1:\n",
    "        if totalLast==upperBound:\n",
    "            continue\n",
    "        totalLast+=1\n",
    "    for j in range(25):\n",
    "        X[top][j] = raw[int(x0[i])-24+j]\n",
    "    y[top][int(y0[i])] = 1   \n",
    "    top+=1\n",
    "    \n",
    "# normalize, shuffle and split\n",
    "np.save(\"mean_std.npy\", [X.mean(), X.std()])\n",
    "X = (X-X.mean())/X.std()\n",
    "z = list(zip(X, y))\n",
    "np.random.shuffle(z)\n",
    "X, y = zip(*z)\n",
    "X, y = np.array(X), np.array(y)\n",
    "\n",
    "xTrain, yTrain = X[:int(N*0.6)], y[:int(N*0.6)]\n",
    "xVal, yVal = X[int(N*0.6):int(N*0.8)], y[int(N*0.6):int(N*0.8)]\n",
    "xTest, yTest = X[int(N*0.8):], y[int(N*0.8):]\n",
    "\n",
    "np.save(\"xTrain.npy\", xTrain)\n",
    "np.save(\"xVal.npy\", xVal)\n",
    "np.save(\"xTest.npy\", xTest)\n",
    "np.save(\"yTrain.npy\", yTrain)\n",
    "np.save(\"yVal.npy\", yVal)\n",
    "np.save(\"yTest.npy\", yTest)"
   ]
  },
  {
   "cell_type": "code",
   "execution_count": null,
   "metadata": {},
   "outputs": [],
   "source": []
  },
  {
   "cell_type": "code",
   "execution_count": 7,
   "metadata": {},
   "outputs": [
    {
     "data": {
      "text/plain": [
       "'205 350 700 1070 1275 1645 1840 2050 2260 2465 2675 3135 3350 3550 3900 4075 '"
      ]
     },
     "execution_count": 7,
     "metadata": {},
     "output_type": "execute_result"
    }
   ],
   "source": [
    "s = \"\"\n",
    "for i in cut[4]:\n",
    "    s+=str(int(i))+\" \"\n",
    "s"
   ]
  },
  {
   "cell_type": "code",
   "execution_count": null,
   "metadata": {},
   "outputs": [],
   "source": []
  }
 ],
 "metadata": {
  "kernelspec": {
   "display_name": "Python 3",
   "language": "python",
   "name": "python3"
  },
  "language_info": {
   "codemirror_mode": {
    "name": "ipython",
    "version": 3
   },
   "file_extension": ".py",
   "mimetype": "text/x-python",
   "name": "python",
   "nbconvert_exporter": "python",
   "pygments_lexer": "ipython3",
   "version": "3.7.5"
  }
 },
 "nbformat": 4,
 "nbformat_minor": 2
}
