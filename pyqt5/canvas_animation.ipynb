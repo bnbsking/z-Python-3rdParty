{
 "cells": [
  {
   "cell_type": "code",
   "execution_count": 1,
   "metadata": {},
   "outputs": [],
   "source": [
    "import sys, random, time\n",
    "from PyQt5.QtWidgets import QApplication, QMainWindow, QPushButton\n",
    "from PyQt5.QtCore import QTimer\n",
    "\n",
    "from matplotlib.backends.backend_qt5agg import FigureCanvasQTAgg as FigureCanvas\n",
    "from matplotlib.figure import Figure\n",
    "\n",
    "#FigureCanvas, Figure 嵌入pyqt5之matplotlib套件\n",
    "#QTimer(class) 回傳一個timer物件\n",
    "    #.timer.timeout.connect(func) class中之func\n",
    "    #.timer.start(1000/fps) 多久更新一次畫面"
   ]
  },
  {
   "cell_type": "code",
   "execution_count": 2,
   "metadata": {},
   "outputs": [],
   "source": [
    "class App(QMainWindow):\n",
    "    def __init__(self):\n",
    "        super().__init__()        \n",
    "        self.initUI()\n",
    "        self.show()\n",
    "    def initUI(self):\n",
    "        self.setWindowTitle('PyQt5 matplotlib example - tastones.com')\n",
    "        self.setGeometry(50, 50, 640, 400)\n",
    "        \n",
    "        obj = PlotCanvas(self, width=5, height=4)\n",
    "        self.timer = QTimer(obj)\n",
    "        self.timer.timeout.connect(obj.plotc)\n",
    "        self.FRAME_PER_SECOND = 1\n",
    "        self.timer.start(1000/self.FRAME_PER_SECOND)\n",
    "\n",
    "        self.button = QPushButton('PyQt5 button', self)\n",
    "        self.button.setToolTip('This s an example button')\n",
    "        self.button.move(500,0)\n",
    "        self.button.resize(140,100)\n",
    "        \n",
    "class PlotCanvas(FigureCanvas):\n",
    "    def __init__(self, parent=None, width=5, height=4, dpi=100):\n",
    "        super().__init__( Figure(figsize=(width, height), dpi=dpi) )\n",
    "        self.setParent(parent)\n",
    "    def plotc(self):\n",
    "        data = [random.random() for i in range(25)]\n",
    "        fig = self.figure.add_subplot(111)\n",
    "        fig.clear()\n",
    "        fig.plot(data, 'r-')\n",
    "        fig.set_title('PyQt Matplotlib Example')\n",
    "        self.draw()"
   ]
  },
  {
   "cell_type": "code",
   "execution_count": 3,
   "metadata": {},
   "outputs": [
    {
     "name": "stderr",
     "output_type": "stream",
     "text": [
      "C:\\Users\\MH630\\Anaconda3\\envs\\tensorflow\\lib\\site-packages\\ipykernel_launcher.py:27: MatplotlibDeprecationWarning: Adding an axes using the same arguments as a previous axes currently reuses the earlier instance.  In a future version, a new instance will always be created and returned.  Meanwhile, this warning can be suppressed, and the future behavior ensured, by passing a unique label to each axes instance.\n"
     ]
    },
    {
     "ename": "SystemExit",
     "evalue": "0",
     "output_type": "error",
     "traceback": [
      "An exception has occurred, use %tb to see the full traceback.\n",
      "\u001b[1;31mSystemExit\u001b[0m\u001b[1;31m:\u001b[0m 0\n"
     ]
    },
    {
     "name": "stderr",
     "output_type": "stream",
     "text": [
      "C:\\Users\\MH630\\Anaconda3\\envs\\tensorflow\\lib\\site-packages\\IPython\\core\\interactiveshell.py:3327: UserWarning: To exit: use 'exit', 'quit', or Ctrl-D.\n",
      "  warn(\"To exit: use 'exit', 'quit', or Ctrl-D.\", stacklevel=1)\n"
     ]
    }
   ],
   "source": [
    "if __name__ == '__main__':\n",
    "    app = QApplication(sys.argv)\n",
    "    ex = App()\n",
    "    sys.exit(app.exec_())"
   ]
  },
  {
   "cell_type": "code",
   "execution_count": null,
   "metadata": {},
   "outputs": [],
   "source": []
  },
  {
   "cell_type": "code",
   "execution_count": null,
   "metadata": {},
   "outputs": [],
   "source": []
  },
  {
   "cell_type": "code",
   "execution_count": null,
   "metadata": {},
   "outputs": [],
   "source": [
    "#Timer example\n",
    "import sys\n",
    "from PyQt5.QtWidgets import QApplication, QMainWindow, QLabel, QGridLayout, QWidget\n",
    "from PyQt5.QtGui import QPixmap, QImage,QFont\n",
    "from PyQt5.QtCore import QTimer\n",
    "\n",
    "class window(QWidget):\n",
    "    def __init__(self):\n",
    "        super().__init__()\n",
    "        self.label = QLabel(self)\n",
    "        self.label.setText(\"0\")\n",
    "        self.label.setGeometry(200,100,200,200)\n",
    "        self.label.setFont(QFont(\"Roman times\",100,QFont.Bold)) #設訂字體\n",
    "        self.setGeometry(500,300,700,500)\n",
    "        self.setWindowTitle(\"PyQT Timer Demo\")\n",
    "        self.timer=QTimer(self) # 呼叫 QTimer \n",
    "        self.timer.timeout.connect(self.run) #當時間到時會執行 run\n",
    "        self.timer.start(1000) #啟動 Timer .. 每隔1000ms 會觸發 run\n",
    "        self.total = 0 #初始 total\n",
    "    def run(self):\n",
    "        self.label.setText(str(self.total)) # 顯示 total\n",
    "        self.total+=1 #Total 加 1 \n",
    "\n",
    "if __name__ == '__main__':\n",
    "    app = QApplication(sys.argv)\n",
    "    ex = window()\n",
    "    ex.show()\n",
    "    sys.exit(app.exec_()) "
   ]
  },
  {
   "cell_type": "code",
   "execution_count": null,
   "metadata": {},
   "outputs": [],
   "source": []
  }
 ],
 "metadata": {
  "kernelspec": {
   "display_name": "Python 3",
   "language": "python",
   "name": "python3"
  },
  "language_info": {
   "codemirror_mode": {
    "name": "ipython",
    "version": 3
   },
   "file_extension": ".py",
   "mimetype": "text/x-python",
   "name": "python",
   "nbconvert_exporter": "python",
   "pygments_lexer": "ipython3",
   "version": "3.7.5"
  }
 },
 "nbformat": 4,
 "nbformat_minor": 2
}
