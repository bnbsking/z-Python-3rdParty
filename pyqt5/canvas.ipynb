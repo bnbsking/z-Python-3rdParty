{
 "cells": [
  {
   "cell_type": "code",
   "execution_count": 1,
   "metadata": {},
   "outputs": [],
   "source": [
    "import sys, random, time, threading\n",
    "from PyQt5.QtWidgets import QApplication, QMainWindow, QPushButton\n",
    "\n",
    "from matplotlib.backends.backend_qt5agg import FigureCanvasQTAgg as FigureCanvas\n",
    "from matplotlib.figure import Figure"
   ]
  },
  {
   "cell_type": "code",
   "execution_count": 2,
   "metadata": {},
   "outputs": [
    {
     "name": "stdout",
     "output_type": "stream",
     "text": [
      "0\n",
      "1\n",
      "2\n",
      "3\n",
      "4\n",
      "5\n",
      "6\n",
      "7\n",
      "8\n",
      "9\n"
     ]
    },
    {
     "ename": "SystemExit",
     "evalue": "0",
     "output_type": "error",
     "traceback": [
      "An exception has occurred, use %tb to see the full traceback.\n",
      "\u001b[1;31mSystemExit\u001b[0m\u001b[1;31m:\u001b[0m 0\n"
     ]
    },
    {
     "name": "stderr",
     "output_type": "stream",
     "text": [
      "C:\\Users\\MH630\\Anaconda3\\envs\\tensorflow\\lib\\site-packages\\IPython\\core\\interactiveshell.py:3327: UserWarning: To exit: use 'exit', 'quit', or Ctrl-D.\n",
      "  warn(\"To exit: use 'exit', 'quit', or Ctrl-D.\", stacklevel=1)\n"
     ]
    }
   ],
   "source": [
    "class App(QMainWindow):\n",
    "    def __init__(self):\n",
    "        super().__init__()\n",
    "        self.initUI()\n",
    "        self.show()\n",
    "        thread = threading.Thread(target=self.func)\n",
    "        thread.start()\n",
    "    def initUI(self):\n",
    "        self.setWindowTitle('PyQt5 matplotlib example - tastones.com')\n",
    "        self.setGeometry(50, 50, 640, 400)\n",
    "        m = PlotCanvas(self, width=5, height=4)\n",
    "        m.move(0,0)\n",
    "        self.button = QPushButton('PyQt5 button', self)\n",
    "        self.button.setToolTip('This s an example button')\n",
    "        self.button.move(500,0)\n",
    "        self.button.resize(140,100)\n",
    "    def func(self):\n",
    "        for i in range(10):\n",
    "            print(i)\n",
    "            time.sleep(1)\n",
    "\n",
    "class PlotCanvas(FigureCanvas):\n",
    "    def __init__(self, parent=None, width=5, height=4, dpi=100):\n",
    "        super().__init__( Figure(figsize=(width, height), dpi=dpi) )\n",
    "        self.setParent(parent)\n",
    "\n",
    "        data = [random.random() for i in range(25)]\n",
    "        fig = self.figure.add_subplot(111)\n",
    "        fig.plot(data, 'r-')\n",
    "        fig.set_title('PyQt Matplotlib Example')\n",
    "        self.draw()\n",
    "        \n",
    "if __name__ == '__main__':\n",
    "    app = QApplication(sys.argv)\n",
    "    ex = App()\n",
    "    sys.exit(app.exec_())"
   ]
  },
  {
   "cell_type": "code",
   "execution_count": null,
   "metadata": {},
   "outputs": [],
   "source": []
  },
  {
   "cell_type": "code",
   "execution_count": null,
   "metadata": {},
   "outputs": [],
   "source": []
  }
 ],
 "metadata": {
  "kernelspec": {
   "display_name": "Python 3",
   "language": "python",
   "name": "python3"
  },
  "language_info": {
   "codemirror_mode": {
    "name": "ipython",
    "version": 3
   },
   "file_extension": ".py",
   "mimetype": "text/x-python",
   "name": "python",
   "nbconvert_exporter": "python",
   "pygments_lexer": "ipython3",
   "version": "3.7.5"
  }
 },
 "nbformat": 4,
 "nbformat_minor": 2
}
