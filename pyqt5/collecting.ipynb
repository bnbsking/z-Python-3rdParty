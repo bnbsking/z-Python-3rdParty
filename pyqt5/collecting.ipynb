clientUI{
 "cells": [
  {
   "cell_type": "code",
   "execution_count": 1,
   "metadata": {},
   "outputs": [],
   "source": [
    "import sys, datetime\n",
    "import numpy as np\n",
    "from matplotlib.backends.backend_qt5agg import FigureCanvasQTAgg as FigureCanvas\n",
    "from matplotlib.figure import Figure\n",
    "from PyQt5.QtWidgets import QApplication, QMainWindow, QPushButton, QLabel\n",
    "from PyQt5.QtCore import QTimer"
   ]
  },
  {
   "cell_type": "code",
   "execution_count": 2,
   "metadata": {},
   "outputs": [],
   "source": [
    "flag = False # 0:hungry, 1:eating, 2:full\n",
    "L = []\n",
    "\n",
    "class App(QMainWindow):\n",
    "    def __init__(self):\n",
    "        super().__init__()\n",
    "        self.initUI()\n",
    "        self.show()\n",
    "    def initUI(self):\n",
    "        self.setWindowTitle('Collect vibration signal')\n",
    "        self.setGeometry(100, 200, 1700, 400)\n",
    "        # canvas thread\n",
    "        obj = PlotCanvas(self, width=15, height=4)\n",
    "        self.timer = QTimer(obj)\n",
    "        self.timer.timeout.connect(obj.plotc)\n",
    "        self.FRAME_PER_SECOND = 1\n",
    "        self.timer.start(1000/self.FRAME_PER_SECOND)\n",
    "        # hint message\n",
    "        self.label = QLabel(self)\n",
    "        self.label.setText(\"I am hungry\")\n",
    "        self.label.move(1500,0)\n",
    "        self.label.resize(200,100)\n",
    "        # collect button thread\n",
    "        self.button_collect = QPushButton(self)\n",
    "        self.button_collect.setText(\"collect\")\n",
    "        self.button_collect.move(1500,100)\n",
    "        self.button_collect.resize(200,50)\n",
    "        self.button_collect.clicked.connect(self.collect)\n",
    "        # stop button thread\n",
    "        self.button_stop = QPushButton(self)\n",
    "        self.button_stop.setText(\"stop\")\n",
    "        self.button_stop.move(1500,150)\n",
    "        self.button_stop.resize(200,50)\n",
    "        self.button_stop.clicked.connect(self.stop)\n",
    "        self.button_stop.hide()\n",
    "        # save button thread\n",
    "        self.button_save = QPushButton(self)\n",
    "        self.button_save.setText(\"save and clear\")\n",
    "        self.button_save.move(1500,200)\n",
    "        self.button_save.resize(200,50)\n",
    "        self.button_save.clicked.connect(self.save)\n",
    "        self.button_save.hide()\n",
    "        # save button thread\n",
    "        self.button_discard = QPushButton(self)\n",
    "        self.button_discard.setText(\"discard and clear\")\n",
    "        self.button_discard.move(1500,250)\n",
    "        self.button_discard.resize(200,50)\n",
    "        self.button_discard.clicked.connect(self.discard)\n",
    "        self.button_discard.hide()\n",
    "    def collect(self):\n",
    "        self.label.setText(\"I am eating\")\n",
    "        self.button_collect.hide()\n",
    "        self.button_stop.show()\n",
    "        global flag\n",
    "        flag = True\n",
    "    def stop(self):\n",
    "        self.label.setText(\"I am full\")\n",
    "        self.button_stop.hide()\n",
    "        self.button_save.show()\n",
    "        self.button_discard.show()\n",
    "        global flag\n",
    "        flag = False\n",
    "    def save(self):\n",
    "        global L\n",
    "        np.save('raw_{}.npy'.format(datetime.datetime.now().strftime(\"%m_%d_%H_%M_%S\")), \\\n",
    "               np.array(L))\n",
    "        L = []\n",
    "        self.label.setText(\"Save success! \\n I am hungey\")\n",
    "        self.button_save.hide()\n",
    "        self.button_discard.hide()\n",
    "        self.button_collect.show()\n",
    "    def discard(self):\n",
    "        global L\n",
    "        L = []\n",
    "        self.label.setText(\"Discard success! \\n I am hungry\")\n",
    "        self.button_save.hide()\n",
    "        self.button_discard.hide()\n",
    "        self.button_collect.show()\n",
    "        \n",
    "class PlotCanvas(FigureCanvas):\n",
    "    def __init__(self, parent=None, width=15, height=4, dpi=100):\n",
    "        super().__init__( Figure(figsize=(width, height), dpi=dpi) )\n",
    "        self.setParent(parent)\n",
    "        self.data = [0 for i in range(25)]\n",
    "    def plotc(self):\n",
    "        global flag, L\n",
    "        new = [data_collect() for i in range(4)]\n",
    "        self.data = self.data[4:] + new\n",
    "        fig = self.figure.add_subplot(111)\n",
    "        fig.clear()\n",
    "        fig.plot(self.data, 'r-')\n",
    "        fig.set_ylim(-2,2)\n",
    "        fig.set_title('Vibration')\n",
    "        self.draw()\n",
    "        if flag:\n",
    "            L = L + new       \n",
    "\n",
    "def data_collect():\n",
    "    return np.random.randn()"
   ]
  },
  {
   "cell_type": "code",
   "execution_count": 3,
   "metadata": {},
   "outputs": [
    {
     "name": "stderr",
     "output_type": "stream",
     "text": [
      "C:\\Users\\MH630\\Anaconda3\\envs\\tensorflow\\lib\\site-packages\\ipykernel_launcher.py:89: MatplotlibDeprecationWarning: Adding an axes using the same arguments as a previous axes currently reuses the earlier instance.  In a future version, a new instance will always be created and returned.  Meanwhile, this warning can be suppressed, and the future behavior ensured, by passing a unique label to each axes instance.\n"
     ]
    },
    {
     "ename": "SystemExit",
     "evalue": "0",
     "output_type": "error",
     "traceback": [
      "An exception has occurred, use %tb to see the full traceback.\n",
      "\u001b[1;31mSystemExit\u001b[0m\u001b[1;31m:\u001b[0m 0\n"
     ]
    },
    {
     "name": "stderr",
     "output_type": "stream",
     "text": [
      "C:\\Users\\MH630\\Anaconda3\\envs\\tensorflow\\lib\\site-packages\\IPython\\core\\interactiveshell.py:3327: UserWarning: To exit: use 'exit', 'quit', or Ctrl-D.\n",
      "  warn(\"To exit: use 'exit', 'quit', or Ctrl-D.\", stacklevel=1)\n"
     ]
    }
   ],
   "source": [
    "if __name__ == '__main__':\n",
    "    app = QApplication(sys.argv)\n",
    "    ex = App()\n",
    "    sys.exit(app.exec_())"
   ]
  },
  {
   "cell_type": "code",
   "execution_count": null,
   "metadata": {},
   "outputs": [],
   "source": []
  },
  {
   "cell_type": "code",
   "execution_count": null,
   "metadata": {},
   "outputs": [],
   "source": []
  }
 ],
 "metadata": {
  "kernelspec": {
   "display_name": "Python 3",
   "language": "python",
   "name": "python3"
  },
  "language_info": {
   "codemirror_mode": {
    "name": "ipython",
    "version": 3
   },
   "file_extension": ".py",
   "mimetype": "text/x-python",
   "name": "python",
   "nbconvert_exporter": "python",
   "pygments_lexer": "ipython3",
   "version": "3.7.5"
  }
 },
 "nbformat": 4,
 "nbformat_minor": 2
}
