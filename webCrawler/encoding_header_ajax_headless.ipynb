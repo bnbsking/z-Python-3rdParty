{
 "cells": [
  {
   "cell_type": "code",
   "execution_count": 1,
   "id": "8748d7de",
   "metadata": {},
   "outputs": [
    {
     "data": {
      "text/plain": [
       "\"href='ShowOrgStat.ASP?OrgID=25033')>臺中市立臺中第二高級中等學校</a></td></tr><tr><td style='width:15px'>2.</td><td><a href='ShowOrgStat.ASP?OrgID=25114')>有限責任臺中市立臺中第二高級中等學校員生消費合作社</a></td></tr><tr><td style='width:15px'>3.</td><td><a href='ShowOrgStat.ASP?OrgID=22344')>國立臺中第二高級中學</a></td></tr><tr><td style='width:15px'>4.</td><td><a href='ShowOrgStat.ASP?OrgID=1250')>有限責任國立臺中第二高級中學員生消費合作社</a></td></tr><tr><td style='width:15px'>5.</td><td><a href='ShowOrgStat.ASP?OrgID=9191')>國立台中第二高級中學</a>\""
      ]
     },
     "execution_count": 1,
     "metadata": {},
     "output_type": "execute_result"
    }
   ],
   "source": [
    "import requests\n",
    "import re\n",
    "\n",
    "school = \"臺中第二\"\n",
    "r = requests.post(\"https://www.taiwanbuying.com.tw/QueryCC_OrgIDAction.ASP\", params={\"keyword\":school})\n",
    "r.encoding = r.apparent_encoding\n",
    "schoolText = re.findall(\"href.*臺中第二.*</a>\", r.text)[0]\n",
    "schoolText"
   ]
  },
  {
   "cell_type": "code",
   "execution_count": 2,
   "id": "2e4c4a4c",
   "metadata": {},
   "outputs": [
    {
     "data": {
      "text/plain": [
       "(['臺中市立臺中第二高級中等學校',\n",
       "  '有限責任臺中市立臺中第二高級中等學校員生消費合作社',\n",
       "  '國立臺中第二高級中學',\n",
       "  '有限責任國立臺中第二高級中學員生消費合作社',\n",
       "  '國立台中第二高級中學'],\n",
       " ['25033', '25114', '22344', '1250', '9191'])"
      ]
     },
     "execution_count": 2,
     "metadata": {},
     "output_type": "execute_result"
    }
   ],
   "source": [
    "schoolList = re.findall(\"([\\u4e00-\\u9fa5]*)</a>\", schoolText)\n",
    "schoolIDList = re.findall(\"OrgID=([0-9]+)\", schoolText)\n",
    "schoolList, schoolIDList"
   ]
  },
  {
   "cell_type": "code",
   "execution_count": 3,
   "id": "26a00dcd",
   "metadata": {},
   "outputs": [
    {
     "data": {
      "text/plain": [
       "['2017', '2018', '2019', '2020', '2021']"
      ]
     },
     "execution_count": 3,
     "metadata": {},
     "output_type": "execute_result"
    }
   ],
   "source": [
    "r = requests.get(\"https://www.taiwanbuying.com.tw/ShowOrgStat.ASP?OrgID=25114\")\n",
    "r.encoding = r.apparent_encoding\n",
    "yearText = re.findall(\"href.*OrgID=.*</a>\", r.text)[0]\n",
    "yearList = re.findall(\">([0-9]{4})<\", yearText)\n",
    "yearList"
   ]
  },
  {
   "cell_type": "code",
   "execution_count": 4,
   "id": "bf9dfe92",
   "metadata": {
    "scrolled": false
   },
   "outputs": [],
   "source": [
    "for year in yearList[::-1]:\n",
    "    r = requests.get(f\"https://www.taiwanbuying.com.tw/ShowOrgYearClose.ASP?OrgID=25114&Y={year}\")\n",
    "    r.encoding = r.apparent_encoding\n",
    "    if \"制服\" in r.text: \n",
    "        break"
   ]
  },
  {
   "cell_type": "code",
   "execution_count": 5,
   "id": "2dfb65ee",
   "metadata": {},
   "outputs": [
    {
     "data": {
      "text/plain": [
       "'4125616'"
      ]
     },
     "execution_count": 5,
     "metadata": {},
     "output_type": "execute_result"
    }
   ],
   "source": [
    "recNo = re.findall(\"RecNo=([0-9]*).*制服\", r.text)[0]\n",
    "recNo"
   ]
  },
  {
   "cell_type": "code",
   "execution_count": 6,
   "id": "c019c527",
   "metadata": {},
   "outputs": [
    {
     "data": {
      "text/plain": [
       "['86633996']"
      ]
     },
     "execution_count": 6,
     "metadata": {},
     "output_type": "execute_result"
    }
   ],
   "source": [
    "r = requests.get(f\"https://www.taiwanbuying.com.tw/ShowCCDetailOri.ASP?RecNo={recNo}\")\n",
    "r.encoding = r.apparent_encoding\n",
    "vendorNo = re.findall(\"[0-9]+\", re.findall(\"廠商代碼.*[0-9]+<br><b>廠商電話?\", r.text)[0])\n",
    "vendorNo"
   ]
  },
  {
   "cell_type": "code",
   "execution_count": 7,
   "id": "a634caa7",
   "metadata": {},
   "outputs": [
    {
     "data": {
      "text/plain": [
       "['公司名稱', '公司名稱', '公司名稱', '公司名稱']"
      ]
     },
     "execution_count": 7,
     "metadata": {},
     "output_type": "execute_result"
    }
   ],
   "source": [
    "r = requests.get(\"https://company.g0v.ronny.tw/id/86633996\")\n",
    "r.encoding = r.apparent_encoding\n",
    "re.findall(\"公司名稱\", r.text)"
   ]
  },
  {
   "cell_type": "code",
   "execution_count": 33,
   "id": "b7e3984e",
   "metadata": {},
   "outputs": [
    {
     "data": {
      "text/plain": [
       "(['542南投縣草屯鎮加老里加老東路30號'],\n",
       " ['02 2553 6158',\n",
       "  '02 2553 6158',\n",
       "  '86633996',\n",
       "  '86633996',\n",
       "  '86633996',\n",
       "  ' ',\n",
       "  ' ',\n",
       "  '04 9235 1988'])"
      ]
     },
     "execution_count": 33,
     "metadata": {},
     "output_type": "execute_result"
    }
   ],
   "source": [
    "headers = {'user-agent': 'Mozilla/5.0 (Windows NT 10.0; Win64; x64) AppleWebKit/537.36 (KHTML, like Gecko) Chrome/92.0.4515.131 Safari/537.36'} \n",
    "r = requests.get(\"https://www.google.com/search?q=龍頭制服企業有限公司\", headers=headers)\n",
    "r.encoding = r.apparent_encoding\n",
    "re.findall(\">([0-9,\\u4e00-\\u9fa5]+號)</span>\", r.text), re.findall(\">([0-9, ]+)</span>\", r.text)"
   ]
  },
  {
   "cell_type": "code",
   "execution_count": null,
   "id": "02982ae2",
   "metadata": {
    "scrolled": true
   },
   "outputs": [],
   "source": []
  },
  {
   "cell_type": "code",
   "execution_count": 71,
   "id": "52e48d45",
   "metadata": {},
   "outputs": [],
   "source": [
    "# r.encoding = r.apparent_encoding\n",
    "# F12.elements.cursor\n",
    "# F12.network..headers.general.requestMethod -> get/post\n",
    "# F12.network..headers.queryStringParameter. -> params={...:...}\n",
    "# F12.network..headers.requestHeader.user-agent -> headers={\"user-agent\":...}\n",
    "# F12.network.*js.preivew (find jinja parameter)"
   ]
  },
  {
   "cell_type": "code",
   "execution_count": 3,
   "id": "e4e96a3c",
   "metadata": {},
   "outputs": [
    {
     "data": {
      "text/plain": [
       "'龍頭制服企業有限公司'"
      ]
     },
     "execution_count": 3,
     "metadata": {},
     "output_type": "execute_result"
    }
   ],
   "source": [
    "from selenium import webdriver\n",
    "import time\n",
    "driver = webdriver.Chrome()\n",
    "driver.get(\"https://tw.piliapp.com/vat-calculator/tw/search/?q=86633996\")\n",
    "time.sleep(5)\n",
    "driver.find_elements_by_class_name(\"tooltip-copy\")[1].text"
   ]
  },
  {
   "cell_type": "code",
   "execution_count": 4,
   "id": "cb0931f9",
   "metadata": {},
   "outputs": [
    {
     "data": {
      "text/plain": [
       "'龍頭制服企業有限公司'"
      ]
     },
     "execution_count": 4,
     "metadata": {},
     "output_type": "execute_result"
    }
   ],
   "source": [
    "from selenium import webdriver\n",
    "from selenium.webdriver.chrome.options import Options\n",
    "import time\n",
    "\n",
    "options = Options()\n",
    "options.headless = True\n",
    "driver = webdriver.Chrome(options=options)\n",
    "driver.get(\"https://tw.piliapp.com/vat-calculator/tw/search/?q=86633996\")\n",
    "time.sleep(5)\n",
    "driver.find_elements_by_class_name(\"tooltip-copy\")[1].text"
   ]
  },
  {
   "cell_type": "code",
   "execution_count": null,
   "id": "14b4e88d",
   "metadata": {},
   "outputs": [],
   "source": []
  }
 ],
 "metadata": {
  "kernelspec": {
   "display_name": "Python 3",
   "language": "python",
   "name": "python3"
  },
  "language_info": {
   "codemirror_mode": {
    "name": "ipython",
    "version": 3
   },
   "file_extension": ".py",
   "mimetype": "text/x-python",
   "name": "python",
   "nbconvert_exporter": "python",
   "pygments_lexer": "ipython3",
   "version": "3.6.13"
  }
 },
 "nbformat": 4,
 "nbformat_minor": 5
}
