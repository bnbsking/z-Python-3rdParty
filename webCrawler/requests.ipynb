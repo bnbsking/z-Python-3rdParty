{
 "cells": [
  {
   "cell_type": "code",
   "execution_count": 59,
   "metadata": {},
   "outputs": [],
   "source": [
    "import requests"
   ]
  },
  {
   "cell_type": "code",
   "execution_count": 100,
   "metadata": {},
   "outputs": [],
   "source": [
    "R = [\\\n",
    "     requests.get('http://httpbin.org/get'),\n",
    "     requests.get('http://httpbin.org/get', params={'key1':'value1', 'key2':'value2'}),\n",
    "     requests.get('http://httpbin.org/get', headers={'user-agent':'my-app/0.0.1'}),\n",
    "     requests.get('http://httpbin.org/get', auth=('user', 'pass')),\n",
    "     requests.post('http://httpbin.org/post', data={'key1':'value1', 'key2':'value2'}),\n",
    "     requests.post('http://httpbin.org/post', files={'my_filename':open('a.txt', 'rb')})\n",
    "    ]"
   ]
  },
  {
   "cell_type": "code",
   "execution_count": 101,
   "metadata": {},
   "outputs": [
    {
     "name": "stdout",
     "output_type": "stream",
     "text": [
      "200 None False True http://httpbin.org/get\n",
      "200 None False True http://httpbin.org/get?key1=value1&key2=value2\n",
      "200 None False True http://httpbin.org/get\n",
      "200 None False True http://httpbin.org/get\n",
      "200 None False True http://httpbin.org/post\n",
      "200 None False True http://httpbin.org/post\n"
     ]
    }
   ],
   "source": [
    "for r in R:\n",
    "    print(r.status_code, r.encoding, r.is_redirect, r.ok, r.url)"
   ]
  },
  {
   "cell_type": "code",
   "execution_count": 103,
   "metadata": {},
   "outputs": [
    {
     "name": "stdout",
     "output_type": "stream",
     "text": [
      "{'Date': 'Thu, 20 Aug 2020 07:11:03 GMT', 'Content-Type': 'application/json', 'Content-Length': '306', 'Connection': 'keep-alive', 'Server': 'gunicorn/19.9.0', 'Access-Control-Allow-Origin': '*', 'Access-Control-Allow-Credentials': 'true'} \n",
      "\n",
      "{'Date': 'Thu, 20 Aug 2020 07:11:03 GMT', 'Content-Type': 'application/json', 'Content-Length': '377', 'Connection': 'keep-alive', 'Server': 'gunicorn/19.9.0', 'Access-Control-Allow-Origin': '*', 'Access-Control-Allow-Credentials': 'true'} \n",
      "\n",
      "{'Date': 'Thu, 20 Aug 2020 07:11:03 GMT', 'Content-Type': 'application/json', 'Content-Length': '296', 'Connection': 'keep-alive', 'Server': 'gunicorn/19.9.0', 'Access-Control-Allow-Origin': '*', 'Access-Control-Allow-Credentials': 'true'} \n",
      "\n",
      "{'Date': 'Thu, 20 Aug 2020 07:11:04 GMT', 'Content-Type': 'application/json', 'Content-Length': '350', 'Connection': 'keep-alive', 'Server': 'gunicorn/19.9.0', 'Access-Control-Allow-Origin': '*', 'Access-Control-Allow-Credentials': 'true'} \n",
      "\n",
      "{'Date': 'Thu, 20 Aug 2020 07:11:04 GMT', 'Content-Type': 'application/json', 'Content-Length': '504', 'Connection': 'keep-alive', 'Server': 'gunicorn/19.9.0', 'Access-Control-Allow-Origin': '*', 'Access-Control-Allow-Credentials': 'true'} \n",
      "\n",
      "{'Date': 'Thu, 20 Aug 2020 07:11:05 GMT', 'Content-Type': 'application/json', 'Content-Length': '512', 'Connection': 'keep-alive', 'Server': 'gunicorn/19.9.0', 'Access-Control-Allow-Origin': '*', 'Access-Control-Allow-Credentials': 'true'} \n",
      "\n"
     ]
    }
   ],
   "source": [
    "for r in R:\n",
    "    print(r.headers, '\\n')"
   ]
  },
  {
   "cell_type": "code",
   "execution_count": 104,
   "metadata": {
    "scrolled": false
   },
   "outputs": [
    {
     "name": "stdout",
     "output_type": "stream",
     "text": [
      "{\n",
      "  \"args\": {}, \n",
      "  \"headers\": {\n",
      "    \"Accept\": \"*/*\", \n",
      "    \"Accept-Encoding\": \"gzip, deflate\", \n",
      "    \"Host\": \"httpbin.org\", \n",
      "    \"User-Agent\": \"python-requests/2.23.0\", \n",
      "    \"X-Amzn-Trace-Id\": \"Root=1-5f3e2207-9fd44a6e721ee8990a996f0e\"\n",
      "  }, \n",
      "  \"origin\": \"210.63.205.97\", \n",
      "  \"url\": \"http://httpbin.org/get\"\n",
      "}\n",
      "\n",
      "{\n",
      "  \"args\": {\n",
      "    \"key1\": \"value1\", \n",
      "    \"key2\": \"value2\"\n",
      "  }, \n",
      "  \"headers\": {\n",
      "    \"Accept\": \"*/*\", \n",
      "    \"Accept-Encoding\": \"gzip, deflate\", \n",
      "    \"Host\": \"httpbin.org\", \n",
      "    \"User-Agent\": \"python-requests/2.23.0\", \n",
      "    \"X-Amzn-Trace-Id\": \"Root=1-5f3e2207-23f8f0f87b477025089a4381\"\n",
      "  }, \n",
      "  \"origin\": \"210.63.205.97\", \n",
      "  \"url\": \"http://httpbin.org/get?key1=value1&key2=value2\"\n",
      "}\n",
      "\n",
      "{\n",
      "  \"args\": {}, \n",
      "  \"headers\": {\n",
      "    \"Accept\": \"*/*\", \n",
      "    \"Accept-Encoding\": \"gzip, deflate\", \n",
      "    \"Host\": \"httpbin.org\", \n",
      "    \"User-Agent\": \"my-app/0.0.1\", \n",
      "    \"X-Amzn-Trace-Id\": \"Root=1-5f3e2207-83f833fc703105883e075cff\"\n",
      "  }, \n",
      "  \"origin\": \"210.63.205.97\", \n",
      "  \"url\": \"http://httpbin.org/get\"\n",
      "}\n",
      "\n",
      "{\n",
      "  \"args\": {}, \n",
      "  \"headers\": {\n",
      "    \"Accept\": \"*/*\", \n",
      "    \"Accept-Encoding\": \"gzip, deflate\", \n",
      "    \"Authorization\": \"Basic dXNlcjpwYXNz\", \n",
      "    \"Host\": \"httpbin.org\", \n",
      "    \"User-Agent\": \"python-requests/2.23.0\", \n",
      "    \"X-Amzn-Trace-Id\": \"Root=1-5f3e2208-3fddce40087591c04d325330\"\n",
      "  }, \n",
      "  \"origin\": \"210.63.205.97\", \n",
      "  \"url\": \"http://httpbin.org/get\"\n",
      "}\n",
      "\n",
      "{\n",
      "  \"args\": {}, \n",
      "  \"data\": \"\", \n",
      "  \"files\": {}, \n",
      "  \"form\": {\n",
      "    \"key1\": \"value1\", \n",
      "    \"key2\": \"value2\"\n",
      "  }, \n",
      "  \"headers\": {\n",
      "    \"Accept\": \"*/*\", \n",
      "    \"Accept-Encoding\": \"gzip, deflate\", \n",
      "    \"Content-Length\": \"23\", \n",
      "    \"Content-Type\": \"application/x-www-form-urlencoded\", \n",
      "    \"Host\": \"httpbin.org\", \n",
      "    \"User-Agent\": \"python-requests/2.23.0\", \n",
      "    \"X-Amzn-Trace-Id\": \"Root=1-5f3e2208-c57eaeafc590ac380601c8b5\"\n",
      "  }, \n",
      "  \"json\": null, \n",
      "  \"origin\": \"210.63.205.97\", \n",
      "  \"url\": \"http://httpbin.org/post\"\n",
      "}\n",
      "\n",
      "{\n",
      "  \"args\": {}, \n",
      "  \"data\": \"\", \n",
      "  \"files\": {\n",
      "    \"my_filename\": \"\"\n",
      "  }, \n",
      "  \"form\": {}, \n",
      "  \"headers\": {\n",
      "    \"Accept\": \"*/*\", \n",
      "    \"Accept-Encoding\": \"gzip, deflate\", \n",
      "    \"Content-Length\": \"148\", \n",
      "    \"Content-Type\": \"multipart/form-data; boundary=d991639c5f715f7cbe29671e8a1e7d72\", \n",
      "    \"Host\": \"httpbin.org\", \n",
      "    \"User-Agent\": \"python-requests/2.23.0\", \n",
      "    \"X-Amzn-Trace-Id\": \"Root=1-5f3e2209-6f7e5fb0a5de4498395a6020\"\n",
      "  }, \n",
      "  \"json\": null, \n",
      "  \"origin\": \"210.63.205.97\", \n",
      "  \"url\": \"http://httpbin.org/post\"\n",
      "}\n",
      "\n"
     ]
    }
   ],
   "source": [
    "for r in R:\n",
    "    print(r.text)"
   ]
  },
  {
   "cell_type": "code",
   "execution_count": 119,
   "metadata": {},
   "outputs": [
    {
     "name": "stderr",
     "output_type": "stream",
     "text": [
      "c:\\users\\bnbsking\\miniconda3\\envs\\tensorflow\\lib\\site-packages\\urllib3\\connectionpool.py:986: InsecureRequestWarning: Unverified HTTPS request is being made to host 'github.com'. Adding certificate verification is strongly advised. See: https://urllib3.readthedocs.io/en/latest/advanced-usage.html#ssl-warnings\n",
      "  InsecureRequestWarning,\n"
     ]
    }
   ],
   "source": [
    "# other usage\n",
    "r = requests.get('http://github.com/', timeout=1, verify=False)\n",
    "# r.cookies"
   ]
  },
  {
   "cell_type": "code",
   "execution_count": null,
   "metadata": {},
   "outputs": [],
   "source": []
  }
 ],
 "metadata": {
  "kernelspec": {
   "display_name": "Python 3",
   "language": "python",
   "name": "python3"
  },
  "language_info": {
   "codemirror_mode": {
    "name": "ipython",
    "version": 3
   },
   "file_extension": ".py",
   "mimetype": "text/x-python",
   "name": "python",
   "nbconvert_exporter": "python",
   "pygments_lexer": "ipython3",
   "version": "3.7.7"
  }
 },
 "nbformat": 4,
 "nbformat_minor": 4
}
