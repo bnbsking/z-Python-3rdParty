{
 "cells": [
  {
   "cell_type": "code",
   "execution_count": 45,
   "metadata": {},
   "outputs": [],
   "source": [
    "import requests, re\n",
    "r = requests.get('http://www.taiwanlottery.com.tw/Lotto/Lotto649/history.aspx')"
   ]
  },
  {
   "cell_type": "code",
   "execution_count": 52,
   "metadata": {
    "scrolled": true
   },
   "outputs": [
    {
     "data": {
      "text/plain": [
       "['Control_history_dlQuery_No1_0\">04',\n",
       " 'Control_history_dlQuery_No2_0\">22',\n",
       " 'Control_history_dlQuery_No3_0\">30',\n",
       " 'Control_history_dlQuery_No4_0\">43',\n",
       " 'Control_history_dlQuery_No5_0\">45',\n",
       " 'Control_history_dlQuery_No6_0\">47',\n",
       " 'Control_history_dlQuery_SNo_0\">15']"
      ]
     },
     "execution_count": 52,
     "metadata": {},
     "output_type": "execute_result"
    }
   ],
   "source": [
    "R = []\n",
    "R+=re.findall('Control_history_dlQuery_No[1-6]_0\">..', r.text)\n",
    "R+=re.findall('Control_history_dlQuery_SNo_0\">..', r.text)\n",
    "R"
   ]
  },
  {
   "cell_type": "code",
   "execution_count": 53,
   "metadata": {},
   "outputs": [
    {
     "data": {
      "text/plain": [
       "['04', '22', '30', '43', '45', '47', '15']"
      ]
     },
     "execution_count": 53,
     "metadata": {},
     "output_type": "execute_result"
    }
   ],
   "source": [
    "R = list(map(lambda x:x[-2:],R))\n",
    "R"
   ]
  },
  {
   "cell_type": "code",
   "execution_count": null,
   "metadata": {},
   "outputs": [],
   "source": []
  }
 ],
 "metadata": {
  "kernelspec": {
   "display_name": "Python 3",
   "language": "python",
   "name": "python3"
  },
  "language_info": {
   "codemirror_mode": {
    "name": "ipython",
    "version": 3
   },
   "file_extension": ".py",
   "mimetype": "text/x-python",
   "name": "python",
   "nbconvert_exporter": "python",
   "pygments_lexer": "ipython3",
   "version": "3.7.7"
  }
 },
 "nbformat": 4,
 "nbformat_minor": 4
}
