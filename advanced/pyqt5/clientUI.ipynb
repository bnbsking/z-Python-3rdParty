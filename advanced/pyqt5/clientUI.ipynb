{
 "cells": [
  {
   "cell_type": "code",
   "execution_count": 1,
   "metadata": {},
   "outputs": [
    {
     "ename": "SystemExit",
     "evalue": "0",
     "output_type": "error",
     "traceback": [
      "An exception has occurred, use %tb to see the full traceback.\n",
      "\u001b[1;31mSystemExit\u001b[0m\u001b[1;31m:\u001b[0m 0\n"
     ]
    },
    {
     "name": "stderr",
     "output_type": "stream",
     "text": [
      "c:\\users\\bnbsking\\miniconda3\\envs\\tensorflow\\lib\\site-packages\\IPython\\core\\interactiveshell.py:3339: UserWarning: To exit: use 'exit', 'quit', or Ctrl-D.\n",
      "  warn(\"To exit: use 'exit', 'quit', or Ctrl-D.\", stacklevel=1)\n"
     ]
    }
   ],
   "source": [
    "import sys, sqlite3\n",
    "import pandas as pd\n",
    "from PyQt5.QtWidgets import QApplication, QMainWindow, QWidget, QGridLayout, QLabel, QPushButton\n",
    "from PyQt5.QtCore import QTimer, Qt\n",
    "from PyQt5.QtGui import QIcon\n",
    "from matplotlib.backends.backend_qt5agg import FigureCanvasQTAgg as FigureCanvas\n",
    "from matplotlib.figure import Figure\n",
    "\n",
    "connect = sqlite3.connect('data.db')\n",
    "class MainWindow(QMainWindow):\n",
    "    def __init__(self):\n",
    "        super().__init__()\n",
    "        self.setWindowTitle(\"Real time nano status\")\n",
    "        self.setGeometry(150, 175, 1500, 800)\n",
    "        self.setWindowIcon(QIcon(\"icon.png\"))\n",
    "        self.setStyleSheet(\"QMainWindow{background:qlineargradient(spread:\\\n",
    "            pad,x1:0,y1:0,x2:0,y2:1, stop:0 #003377, stop:1 #0000AA)}\")\n",
    "                \n",
    "        title = QLabel(self)\n",
    "        title.setText('MiAION-SeeR 異常檢測')\n",
    "        title.setStyleSheet(\"color:white; font-family:Microsoft JhengHei; font-size:48px;\")\n",
    "        \n",
    "        dataFig = PlotCanvas(self, width=5, height=3, title='data', style='r-')\n",
    "        predFig = PlotCanvas(self, width=5, height=3, title='pred', style='b-')\n",
    "        #obj = xPlotCanvas(self, width=10, height=5) # canvas thread\n",
    "        #self.xcanvasThread = QTimer(obj)\n",
    "        #self.xcanvasThread.timeout.connect(obj.plotc)\n",
    "        #self.xcanvasThread.start(1000) # 250ms a loop\n",
    "        \n",
    "        layout = QGridLayout()\n",
    "        layout.addWidget(title, 0, 0, 1, 4, Qt.AlignCenter) # merge table from 0,0 thick1 width4\n",
    "        layout.addWidget(dataFig, 1, 0, 2, 2, Qt.AlignCenter)\n",
    "        layout.addWidget(predFig, 1, 2, 2, 2, Qt.AlignCenter)        \n",
    "        \n",
    "        widget = QWidget() # available resize and move\n",
    "        widget.setLayout(layout)\n",
    "        self.setCentralWidget(widget)\n",
    "    \n",
    "class PlotCanvas(FigureCanvas):\n",
    "    def __init__(self, parent=None, width=15, height=10, dpi=100, title='?', style='r-'):\n",
    "        super().__init__(Figure(figsize=(width, height), dpi=dpi, tight_layout={\"pad\":0.4,\\\n",
    "            \"w_pad\":0.5, \"h_pad\":1.0})) # self.figure is the object that plt.figure() returns\n",
    "        self.title, self.style = title, style\n",
    "        self.setParent(parent)\n",
    "        self.plotc()\n",
    "\n",
    "    def plotc(self):\n",
    "        self.figure.patch.set_facecolor('orange')\n",
    "        ax = self.figure.add_subplot(111)\n",
    "        ax.axes.set_facecolor('black')\n",
    "        ax.clear()\n",
    "        ax.plot([1]*100, self.style)\n",
    "        ax.set_title(self.title)\n",
    "        ax.set_ylim(0,10)\n",
    "    \n",
    "app = QApplication(sys.argv)\n",
    "MainWindow = MainWindow()\n",
    "MainWindow.show()\n",
    "sys.exit(app.exec_())"
   ]
  },
  {
   "cell_type": "code",
   "execution_count": null,
   "metadata": {},
   "outputs": [],
   "source": []
  },
  {
   "cell_type": "code",
   "execution_count": null,
   "metadata": {},
   "outputs": [],
   "source": [
    "# QLabel, QPushButton, QLineEdit (Qwidget)\n",
    "# integrate by layout and transfer to a widget W\n",
    "# self.setCentralWidget(W)"
   ]
  },
  {
   "cell_type": "code",
   "execution_count": null,
   "metadata": {},
   "outputs": [],
   "source": [
    "fig = plt.figure(figsize=(20,5))\n",
    "fig.patch.set_facecolor('orange')\n",
    "ax = fig.add_subplot(1, 1, 1)\n",
    "ax.set_facecolor('white')\n",
    "\n",
    "plt.plot(data[:10,0])\n",
    "plt.xlabel('time (sec)', fontsize=20)\n",
    "plt.ylabel('power (kw)', fontsize=20)\n",
    "plt.show() "
   ]
  },
  {
   "cell_type": "code",
   "execution_count": null,
   "metadata": {},
   "outputs": [],
   "source": [
    "import matplotlib.pyplot as plt\n"
   ]
  },
  {
   "cell_type": "code",
   "execution_count": 3,
   "metadata": {},
   "outputs": [
    {
     "data": {
      "text/plain": [
       "'C:\\\\Users\\\\bnbsking\\\\Desktop\\\\code\\\\PRODUCT\\\\version2\\\\edge_client\\\\show\\n'"
      ]
     },
     "execution_count": 3,
     "metadata": {},
     "output_type": "execute_result"
    }
   ],
   "source": [
    "import os\n",
    "os.popen('echo %cd%').read()"
   ]
  },
  {
   "cell_type": "code",
   "execution_count": null,
   "metadata": {},
   "outputs": [],
   "source": []
  }
 ],
 "metadata": {
  "kernelspec": {
   "display_name": "Python 3",
   "language": "python",
   "name": "python3"
  },
  "language_info": {
   "codemirror_mode": {
    "name": "ipython",
    "version": 3
   },
   "file_extension": ".py",
   "mimetype": "text/x-python",
   "name": "python",
   "nbconvert_exporter": "python",
   "pygments_lexer": "ipython3",
   "version": "3.7.7"
  }
 },
 "nbformat": 4,
 "nbformat_minor": 4
}
