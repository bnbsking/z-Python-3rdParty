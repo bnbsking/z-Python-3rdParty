{
 "cells": [
  {
   "cell_type": "code",
   "execution_count": 13,
   "id": "7320c469",
   "metadata": {},
   "outputs": [
    {
     "data": {
      "text/html": [
       "<a href=\"http://127.0.0.1:8080/#/experiments/details/55b7493f-22b3-4ebf-bea1-670febefa45b\" target=\"_blank\" >Experiment details</a>."
      ],
      "text/plain": [
       "<IPython.core.display.HTML object>"
      ]
     },
     "metadata": {},
     "output_type": "display_data"
    },
    {
     "data": {
      "text/html": [
       "<a href=\"http://127.0.0.1:8080/#/runs/details/da214015-888e-4659-ab84-2815b33ae4d5\" target=\"_blank\" >Run details</a>."
      ],
      "text/plain": [
       "<IPython.core.display.HTML object>"
      ]
     },
     "metadata": {},
     "output_type": "display_data"
    },
    {
     "data": {
      "text/plain": [
       "RunPipelineResult(run_id=da214015-888e-4659-ab84-2815b33ae4d5)"
      ]
     },
     "execution_count": 13,
     "metadata": {},
     "output_type": "execute_result"
    }
   ],
   "source": [
    "# small value summary\n",
    "import kfp\n",
    "from kfp.components import create_component_from_func as ccff\n",
    "from typing import NamedTuple # import outside function and use inline\n",
    "\n",
    "def sum2dList(L:list) -> float:\n",
    "    '''Calculates sum over 2-d list'''\n",
    "    return sum( [ sum(row) for row in L ] )\n",
    "\n",
    "def sum2dDict(D:dict) -> float:\n",
    "    '''Calculate sum over value list'''\n",
    "    return sum( [ sum(row) for row in D.values() ] )\n",
    "\n",
    "def mydivmod(dividend:float, divisor:float) -> NamedTuple('MyDivmodOutput',\n",
    "    [('quotient', float), ('remainder', float)]):\n",
    "    '''Calculate the quotient and the remainder'''\n",
    "    import numpy as np\n",
    "    def divmod_helper(dividend, divisor):\n",
    "        return np.divmod(dividend, divisor)\n",
    "    quotient, remainder = divmod_helper(dividend, divisor)\n",
    "    from collections import namedtuple # import inside function and use before output\n",
    "    return namedtuple('MyDivmodOutput', ['quotient', 'remainder'])(quotient, remainder)\n",
    "\n",
    "def add1(x:float) -> float: # cannot use lambda function\n",
    "    return x+1\n",
    "\n",
    "list_comp = ccff(sum2dList, output_component_file='list_component.yaml')\n",
    "dict_comp = ccff(sum2dDict, output_component_file='dict_component.yaml')\n",
    "divmod_comp = ccff(mydivmod, output_component_file='divmod_component.yaml', base_image='python:3.6', \\\n",
    "    packages_to_install=[\"numpy==1.19.5\"])\n",
    "add1_comp = ccff(add1, output_component_file='add1_component.yaml')\n",
    "\n",
    "@kfp.dsl.pipeline(name='Addition pipeline', description='An example pipeline.')\n",
    "def add_pipeline(L:list, D:dict):\n",
    "    list_task = list_comp(L)\n",
    "    dict_task = dict_comp(D)\n",
    "    divmod_task = divmod_comp(list_task.output, dict_task.output)\n",
    "    noop1_task = add1_comp(divmod_task.outputs[\"quotient\"])\n",
    "    noop2_task = add1_comp(divmod_task.outputs[\"remainder\"])\n",
    "    \n",
    "client = kfp.Client(\"http://127.0.0.1:8080\")\n",
    "client.create_run_from_pipeline_func(add_pipeline, arguments={'L':[[1.0,2.0],[4.0,5.0]], \\\n",
    "    'D':{\"A\":[1,2],\"B\":[4,5]}})"
   ]
  },
  {
   "cell_type": "code",
   "execution_count": 14,
   "id": "aa952a98",
   "metadata": {},
   "outputs": [
    {
     "data": {
      "text/html": [
       "<a href=\"http://127.0.0.1:8080/#/experiments/details/55b7493f-22b3-4ebf-bea1-670febefa45b\" target=\"_blank\" >Experiment details</a>."
      ],
      "text/plain": [
       "<IPython.core.display.HTML object>"
      ]
     },
     "metadata": {},
     "output_type": "display_data"
    },
    {
     "data": {
      "text/html": [
       "<a href=\"http://127.0.0.1:8080/#/runs/details/17c0a865-12cb-43f7-945c-a1ddc0c29194\" target=\"_blank\" >Run details</a>."
      ],
      "text/plain": [
       "<IPython.core.display.HTML object>"
      ]
     },
     "metadata": {},
     "output_type": "display_data"
    },
    {
     "data": {
      "text/plain": [
       "RunPipelineResult(run_id=17c0a865-12cb-43f7-945c-a1ddc0c29194)"
      ]
     },
     "execution_count": 14,
     "metadata": {},
     "output_type": "execute_result"
    }
   ],
   "source": [
    "# big value summary\n",
    "import kfp\n",
    "from kfp.components import create_component_from_func as ccff\n",
    "\n",
    "def write_csv()->float:\n",
    "    import pandas as pd\n",
    "    df = pd.DataFrame({\"a\":[1,2,3], \"b\":[4,5,6]})\n",
    "    df.to_csv(\"/mnt/c/users/James/Desktop/code/work/kf/build_from_sdk_zfinal/example.csv\")\n",
    "    return 0\n",
    "\n",
    "def print_csv(x:float)->None:\n",
    "    import pandas as pd\n",
    "    print( pd.read_csv(\"/mnt/c/users/James/Desktop/code/work/kf/build_from_sdk_zfinal/example.csv\") )\n",
    "    \n",
    "write_csv_comp = ccff(write_csv, output_component_file='write_csv_component.yaml', packages_to_install=[\"pandas\"]) \n",
    "print_csv_comp = ccff(print_csv, output_component_file='print_csv_component.yaml', packages_to_install=[\"pandas\"])\n",
    "\n",
    "@kfp.dsl.pipeline(name='csv_pipeline', description='passing big value.')\n",
    "def big_pipeline():\n",
    "    vop = dsl.VolumeOp(name=\"create-pvc\", resource_name=\"my-pvc\",\n",
    "        modes=dsl.VOLUME_MODE_RWO, size=\"1Gi\")\n",
    "    wc_task = write_csv_comp().add_pvolumes({\\\n",
    "        \"/mnt/c/users/James/Desktop/code/work/kf/build_from_sdk_zfinal/\": vop.volume})\n",
    "    pc_task = print_csv_comp(wc_task.output).add_pvolumes({\\\n",
    "        \"/mnt/c/users/James/Desktop/code/work/kf/build_from_sdk_zfinal/\": vop.volume})\n",
    "    \n",
    "client = kfp.Client(\"http://127.0.0.1:8080\")\n",
    "client.create_run_from_pipeline_func(big_pipeline, arguments={})"
   ]
  },
  {
   "cell_type": "code",
   "execution_count": null,
   "id": "6bfaf685",
   "metadata": {},
   "outputs": [],
   "source": []
  }
 ],
 "metadata": {
  "kernelspec": {
   "display_name": "Python 3",
   "language": "python",
   "name": "python3"
  },
  "language_info": {
   "codemirror_mode": {
    "name": "ipython",
    "version": 3
   },
   "file_extension": ".py",
   "mimetype": "text/x-python",
   "name": "python",
   "nbconvert_exporter": "python",
   "pygments_lexer": "ipython3",
   "version": "3.6.13"
  }
 },
 "nbformat": 4,
 "nbformat_minor": 5
}
