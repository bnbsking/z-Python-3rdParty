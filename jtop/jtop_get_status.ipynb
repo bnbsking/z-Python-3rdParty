{
 "cells": [
  {
   "cell_type": "code",
   "execution_count": 2,
   "metadata": {},
   "outputs": [],
   "source": [
    "from jtop import jtop"
   ]
  },
  {
   "cell_type": "code",
   "execution_count": 6,
   "metadata": {},
   "outputs": [
    {
     "name": "stdout",
     "output_type": "stream",
     "text": [
      "EMC {'val': 0}\n",
      "GR3D {'val': 0}\n",
      "RAM {'use': 1590, 'tot': 3956, 'unit': 'M', 'lfb': {'nblock': 347, 'size': 4, 'unit': 'M'}}\n",
      "SWAP {'use': 0, 'tot': 1978, 'unit': 'M', 'cached': {'size': 0, 'unit': 'M'}}\n",
      "CPU [{'name': 'CPU1', 'status': 'ON', 'val': 1, 'frq': 1479, 'governor': 'schedutil'}, {'name': 'CPU2', 'status': 'ON', 'val': 0, 'frq': 1479, 'governor': 'schedutil'}, {'name': 'CPU3', 'status': 'ON', 'val': 3, 'frq': 1479, 'governor': 'schedutil'}, {'name': 'CPU4', 'status': 'ON', 'val': 98, 'frq': 1479, 'governor': 'schedutil'}]\n",
      "TEMP {'PLL': 40.5, 'CPU': 44.0, 'iwlwifi': 39.0, 'PMIC': 100.0, 'GPU': 38.5, 'AO': 47.0, 'thermal': 41.0}\n",
      "WATT {'POM_5V_IN': {'cur': 3007, 'avg': 3007}, 'POM_5V_GPU': {'cur': 81, 'avg': 81}, 'POM_5V_CPU': {'cur': 1219, 'avg': 1219}}\n",
      "FAN {'cap': 255, 'step': 100, 'status': 'ON', 'ctrl': True, 'tpwm': 0, 'cpwm': 0}\n",
      "\n",
      "memory_used= 0.4019211324570273\n",
      "cpu_averaged= 25.5\n",
      "temperature= 44.0\n"
     ]
    }
   ],
   "source": [
    "# https://github.com/rbonghi/jetson_stats a\n",
    "\n",
    "with jtop() as jetson:\n",
    "    D = jetson.stats\n",
    "\n",
    "for key in D:\n",
    "    print(key, D[key])\n",
    "\n",
    "print()\n",
    "print('memory_used=', D['RAM']['use']/D['RAM']['tot'] )\n",
    "print('cpu_averaged=', sum([ D['CPU'][i]['val'] for i in range(4)])/4 )\n",
    "print('temperature=', D['TEMP']['CPU'])"
   ]
  },
  {
   "cell_type": "code",
   "execution_count": null,
   "metadata": {},
   "outputs": [],
   "source": []
  },
  {
   "cell_type": "code",
   "execution_count": null,
   "metadata": {},
   "outputs": [],
   "source": []
  }
 ],
 "metadata": {
  "kernelspec": {
   "display_name": "Python 3",
   "language": "python",
   "name": "python3"
  },
  "language_info": {
   "codemirror_mode": {
    "name": "ipython",
    "version": 3
   },
   "file_extension": ".py",
   "mimetype": "text/x-python",
   "name": "python",
   "nbconvert_exporter": "python",
   "pygments_lexer": "ipython3",
   "version": "3.6.9"
  }
 },
 "nbformat": 4,
 "nbformat_minor": 4
}
