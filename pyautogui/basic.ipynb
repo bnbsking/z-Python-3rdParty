{
 "cells": [
  {
   "cell_type": "markdown",
   "metadata": {},
   "source": [
    "+ install pyautogui without pip\n",
    "    + download from the website\n",
    "        https://pypi.org/project/PyAutoGUI/#files\n",
    "    + extract the package\n",
    "    + run the install command\n",
    "        python setup.py install"
   ]
  },
  {
   "cell_type": "code",
   "execution_count": 5,
   "metadata": {},
   "outputs": [],
   "source": [
    "import pyautogui as pg\n",
    "import time"
   ]
  },
  {
   "cell_type": "code",
   "execution_count": 32,
   "metadata": {},
   "outputs": [
    {
     "name": "stdout",
     "output_type": "stream",
     "text": [
      "(736, 578) (736, 578) (832, 376) (989, 245) (989, 245) (989, 245) (989, 245) (989, 245) (989, 245) (989, 245) "
     ]
    }
   ],
   "source": [
    "for i in range(10):\n",
    "    x, y = pg.position()\n",
    "    print((x,y), end=' ')\n",
    "    time.sleep(0.5)"
   ]
  },
  {
   "cell_type": "code",
   "execution_count": 30,
   "metadata": {},
   "outputs": [],
   "source": [
    "pg.moveTo(600,600)  # default third argument is speed = 0.1\n",
    "pg.click()          # pg.click(button='right') or pg.writeClick() or pg.click(989,245)\n",
    "pg.doubleClick()"
   ]
  },
  {
   "cell_type": "code",
   "execution_count": 44,
   "metadata": {},
   "outputs": [],
   "source": [
    "pg.press('enter')\n",
    "pg.hotkey('ctrl','shift','n')\n",
    "pg.write('Hello', interval=0.2)"
   ]
  },
  {
   "cell_type": "code",
   "execution_count": 45,
   "metadata": {},
   "outputs": [],
   "source": []
  },
  {
   "cell_type": "code",
   "execution_count": 49,
   "metadata": {},
   "outputs": [],
   "source": [
    "pg.hotkey('alt', 'space')"
   ]
  },
  {
   "cell_type": "code",
   "execution_count": 52,
   "metadata": {},
   "outputs": [],
   "source": [
    "pg.press('f11')"
   ]
  },
  {
   "cell_type": "code",
   "execution_count": null,
   "metadata": {},
   "outputs": [],
   "source": []
  }
 ],
 "metadata": {
  "kernelspec": {
   "display_name": "Python 3",
   "language": "python",
   "name": "python3"
  },
  "language_info": {
   "codemirror_mode": {
    "name": "ipython",
    "version": 3
   },
   "file_extension": ".py",
   "mimetype": "text/x-python",
   "name": "python",
   "nbconvert_exporter": "python",
   "pygments_lexer": "ipython3",
   "version": "3.7.7"
  }
 },
 "nbformat": 4,
 "nbformat_minor": 4
}
